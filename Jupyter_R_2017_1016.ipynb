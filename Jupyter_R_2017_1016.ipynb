{
 "cells": [
  {
   "cell_type": "markdown",
   "metadata": {},
   "source": [
    "# Jupyter Notebook でRを使う （Windows）\n",
    "\n",
    "2017年10月16日\n",
    "\n",
    "### 環境\n",
    " ・Windows 10 <br>\n",
    " ・R 3.3 <BR>\n",
    " ・RStudio <BR>\n",
    " ・Anaconda・Jupyter <BR>\n"
   ]
  },
  {
   "cell_type": "markdown",
   "metadata": {},
   "source": [
    "## JupyterでRが使えるようになるまでの手順。手間取ったので手順をメモ。\n",
    "\n",
    "\n",
    "### 前提\n",
    "・Rがインストール済み。 <br>\n",
    "・RStuduoがインストール済み。 <br>\n",
    "・Anaconda（Jupyter含む）がインストール済み。 <br>\n",
    "\n",
    "## 概略手順\n",
    "手順1. Rのバージョンを確認。（R 3.3かR 3.2が必要。RStudio上で実施） <br>\n",
    "手順2. Rのパッケージを全てアンロード。（人によっては不要かも）（RStudio上で実施） <br>\n",
    "手順3. devtoolsをRにインストール。（RStudio上で実施） <br>\n",
    "手順4. IRKernelをRにインストール。（RStudio上で実施） <br>\n",
    "＝＝この時点でJupyter上でRを使用可能になっている。 <br>\n",
    "手順5. Jupyter上でKernelをRにする（Jupyter上で実施） <br>\n"
   ]
  },
  {
   "cell_type": "markdown",
   "metadata": {},
   "source": [
    "### 手順1 \n",
    "### Rのバージョンを確認。\n",
    "下記の例ではR3.3なのでJupyterをRで使用可能。 <br>\n",
    "現時点ではR3.2かR3.3しか対応していない。R3.4が入っているならR3.3に変更必要。 <bR>"
   ]
  },
  {
   "cell_type": "code",
   "execution_count": 2,
   "metadata": {
    "collapsed": false
   },
   "outputs": [
    {
     "ename": "ERROR",
     "evalue": "Error in eval(expr, envir, enclos):  関数 \"sessioninfo\" を見つけることができませんでした \n",
     "output_type": "error",
     "traceback": [
      "Error in eval(expr, envir, enclos):  関数 \"sessioninfo\" を見つけることができませんでした \nTraceback:\n"
     ]
    }
   ],
   "source": [
    "# 注意！ RStudio上で実行！\n",
    "sessioninfo() # この関数はRStudio専用の関数かも。 Jupyter上では使用不可らしい。"
   ]
  },
  {
   "cell_type": "markdown",
   "metadata": {},
   "source": [
    "R version 3.3.2 (2016-10-31)\n",
    "Platform: x86_64-w64-mingw32/x64 (64-bit)\n",
    "Running under: Windows 7 x64 (build 7601) Service Pack 1\n",
    "\n",
    "locale:\n",
    "[1] LC_COLLATE=Japanese_Japan.932  LC_CTYPE=Japanese_Japan.932   \n",
    "[3] LC_MONETARY=Japanese_Japan.932 LC_NUMERIC=C                  \n",
    "[5] LC_TIME=Japanese_Japan.932    \n",
    "\n",
    "attached base packages:\n",
    "[1] stats     graphics  grDevices utils     datasets  methods   base     \n",
    "\n",
    "loaded via a namespace (and not attached):\n",
    " [1] digest_0.6.12       crayon_1.3.4        withr_1.0.2        \n",
    " [4] IRdisplay_0.4.4     repr_0.12.0         R6_2.2.0           \n",
    " [7] jsonlite_1.5        magrittr_1.5        git2r_0.18.0       \n",
    "[10] evaluate_0.10.1     httr_1.2.1          stringi_1.1.3      \n",
    "[13] uuid_0.1-2          curl_2.6            rstudioapi_0.6     \n",
    "[16] IRkernel_0.8.9.9000 devtools_1.13.3     tools_3.3.2        \n",
    "[19] stringr_1.2.0       pbdZMQ_0.2-6        memoise_1.1.0  "
   ]
  },
  {
   "cell_type": "markdown",
   "metadata": {},
   "source": [
    "### 手順2\n",
    "### Rのパッケージを全てアンロード。（人によっては不要かも）（RStudio上で実施）\n",
    "\n",
    "・既にたくさんのパッケージが入っている状態でRカーネルを入れようとするとエラーが出た。 <br>\n",
    "・エラーが出ない人はこの手順2は不要かも。 <br>\n",
    "・下記のサイトから全てのパッケージをアンロードする方法を拝借。 <br>\n",
    "https://stackoverflow.com/questions/7505547/detach-all-packages-while-working-in-r <br>\n",
    "・RStudio上で下記のDetachスニペットを実行。 <br>\n"
   ]
  },
  {
   "cell_type": "code",
   "execution_count": null,
   "metadata": {
    "collapsed": true
   },
   "outputs": [],
   "source": [
    "detachAllPackages <- function() {\n",
    "     basic.packages <- c(\"package:stats\",\"package:graphics\",\"package:grDevices\",\"package:utils\",\"package:datasets\",\"package:methods\",\"package:base\")\n",
    "     package.list <- search()[ifelse(unlist(gregexpr(\"package:\",search()))==1,TRUE,FALSE)]\n",
    "     package.list <- setdiff(package.list,basic.packages)\n",
    "     if (length(package.list)>0)  for (package in package.list) detach(package, character.only=TRUE)\n",
    " }\n",
    "detachAllPackages()"
   ]
  },
  {
   "cell_type": "markdown",
   "metadata": {},
   "source": [
    "### 手順3\n",
    "### devtoolsをインストール （RStudio上で実施）\n",
    "\n",
    "手順3と手順4は下記のサイトを参考。\n",
    "https://github.com/IRkernel/IRkernel\n"
   ]
  },
  {
   "cell_type": "code",
   "execution_count": null,
   "metadata": {
    "collapsed": true
   },
   "outputs": [],
   "source": [
    "# 注意！ RStudio上で実行！\n",
    "install.packages('devtools')\n"
   ]
  },
  {
   "cell_type": "markdown",
   "metadata": {},
   "source": [
    "trying URL 'https://cran.rstudio.com/bin/windows/contrib/3.3/devtools_1.13.3.zip'\n",
    "Content type 'application/zip' length 439714 bytes (429 KB)\n",
    "downloaded 429 KB\n",
    "\n",
    "package ‘devtools’ successfully unpacked and MD5 sums checked\n",
    "\n",
    "The downloaded binary packages are in\n",
    "\tC:\\Users\\ST18\\AppData\\Local\\Temp\\RtmpCwBrBU\\downloaded_packages"
   ]
  },
  {
   "cell_type": "markdown",
   "metadata": {},
   "source": [
    "### 手順4. \n",
    "### IRKernelをRにインストール。（RStudio上で実施）\n",
    "\n"
   ]
  },
  {
   "cell_type": "code",
   "execution_count": null,
   "metadata": {
    "collapsed": true
   },
   "outputs": [],
   "source": [
    "# 注意！ RStudio上で実行！\n",
    "devtools::install_github('IRkernel/IRkernel')"
   ]
  },
  {
   "cell_type": "markdown",
   "metadata": {},
   "source": [
    "\n",
    "Downloading GitHub repo IRkernel/IRkernel@master\n",
    "from URL https://api.github.com/repos/IRkernel/IRkernel/zipball/master\n",
    "Installing IRkernel\n",
    "\"C:/PROGRA~1/R/R-33~1.2/bin/x64/R\" --no-site-file --no-environ --no-save  \\\n",
    "  --no-restore --quiet CMD INSTALL  \\\n",
    "  \"C:/Users/ST18/AppData/Local/Temp/RtmpCwBrBU/devtools3a042ed91a56/IRkernel-IRkernel-5f8ac38\"  \\\n",
    "  --library=\"C:/Program Files/R/R-3.3.2/library\" --install-tests \n",
    "\n",
    "* installing *source* package 'IRkernel' ...\n",
    "** R\n",
    "** inst\n",
    "** tests\n",
    "** preparing package for lazy loading\n",
    "** help\n",
    "*** installing help indices\n",
    "** building package indices\n",
    "** testing if installed package can be loaded\n",
    "*** arch - i386\n",
    "*** arch - x64\n",
    "* DONE (IRkernel)\n",
    "Warning message:\n",
    "GitHub repo contains submodules, may not function as expected! \n",
    "> IRkernel::installspec()  # to register the kernel in the current R installation\n",
    "[InstallKernelSpec] Removing existing kernelspec in C:\\Users\\ST18\\AppData\\Roaming\\jupyter\\kernels\\ir\n",
    "[InstallKernelSpec] Installed kernelspec ir in C:\\Users\\ST18\\AppData\\Roaming\\jupyter\\kernels\\ir"
   ]
  },
  {
   "cell_type": "markdown",
   "metadata": {},
   "source": [
    "### 手順5. \n",
    "### Jupyter上でKernelをRにする（Jupyter上で実施）\n",
    "\n",
    "Jupyter Notebookを開き、下記の場所でRを選択 <br>\n",
    "Jupyter > menu bar > Kernel > R <br>\n",
    "\n",
    "\n",
    "<br>\n",
    "これにより、Jupyter Notebook上でRを使えるようになっているはず。\n"
   ]
  },
  {
   "cell_type": "markdown",
   "metadata": {},
   "source": [
    "### テスト\n"
   ]
  },
  {
   "cell_type": "code",
   "execution_count": 1,
   "metadata": {
    "collapsed": false
   },
   "outputs": [
    {
     "data": {
      "text/html": [
       "6"
      ],
      "text/latex": [
       "6"
      ],
      "text/markdown": [
       "6"
      ],
      "text/plain": [
       "[1] 6"
      ]
     },
     "metadata": {},
     "output_type": "display_data"
    },
    {
     "data": {
      "text/html": [
       "<ol class=list-inline>\n",
       "\t<li>0</li>\n",
       "\t<li>0.5</li>\n",
       "\t<li>1</li>\n",
       "\t<li>1.5</li>\n",
       "\t<li>2</li>\n",
       "\t<li>2.5</li>\n",
       "\t<li>3</li>\n",
       "\t<li>3.5</li>\n",
       "\t<li>4</li>\n",
       "\t<li>4.5</li>\n",
       "\t<li>5</li>\n",
       "\t<li>5.5</li>\n",
       "\t<li>6</li>\n",
       "\t<li>6.5</li>\n",
       "\t<li>7</li>\n",
       "\t<li>7.5</li>\n",
       "\t<li>8</li>\n",
       "\t<li>8.5</li>\n",
       "\t<li>9</li>\n",
       "\t<li>9.5</li>\n",
       "\t<li>10</li>\n",
       "</ol>\n"
      ],
      "text/latex": [
       "\\begin{enumerate*}\n",
       "\\item 0\n",
       "\\item 0.5\n",
       "\\item 1\n",
       "\\item 1.5\n",
       "\\item 2\n",
       "\\item 2.5\n",
       "\\item 3\n",
       "\\item 3.5\n",
       "\\item 4\n",
       "\\item 4.5\n",
       "\\item 5\n",
       "\\item 5.5\n",
       "\\item 6\n",
       "\\item 6.5\n",
       "\\item 7\n",
       "\\item 7.5\n",
       "\\item 8\n",
       "\\item 8.5\n",
       "\\item 9\n",
       "\\item 9.5\n",
       "\\item 10\n",
       "\\end{enumerate*}\n"
      ],
      "text/markdown": [
       "1. 0\n",
       "2. 0.5\n",
       "3. 1\n",
       "4. 1.5\n",
       "5. 2\n",
       "6. 2.5\n",
       "7. 3\n",
       "8. 3.5\n",
       "9. 4\n",
       "10. 4.5\n",
       "11. 5\n",
       "12. 5.5\n",
       "13. 6\n",
       "14. 6.5\n",
       "15. 7\n",
       "16. 7.5\n",
       "17. 8\n",
       "18. 8.5\n",
       "19. 9\n",
       "20. 9.5\n",
       "21. 10\n",
       "\n",
       "\n"
      ],
      "text/plain": [
       " [1]  0.0  0.5  1.0  1.5  2.0  2.5  3.0  3.5  4.0  4.5  5.0  5.5  6.0  6.5  7.0\n",
       "[16]  7.5  8.0  8.5  9.0  9.5 10.0"
      ]
     },
     "metadata": {},
     "output_type": "display_data"
    },
    {
     "data": {
      "image/png": "[encoded data removed]",
      "text/plain": [
       "plot without title"
      ]
     },
     "metadata": {},
     "output_type": "display_data"
    }
   ],
   "source": [
    "# R Script Test\n",
    "2*3\n",
    "a = seq(0, 10, 0.5)\n",
    "a\n",
    "plot(a, sin(a), type='l')\n"
   ]
  },
  {
   "cell_type": "code",
   "execution_count": null,
   "metadata": {
    "collapsed": true
   },
   "outputs": [],
   "source": []
  },
  {
   "cell_type": "code",
   "execution_count": null,
   "metadata": {
    "collapsed": true
   },
   "outputs": [],
   "source": []
  },
  {
   "cell_type": "code",
   "execution_count": null,
   "metadata": {
    "collapsed": true
   },
   "outputs": [],
   "source": []
  },
  {
   "cell_type": "code",
   "execution_count": null,
   "metadata": {
    "collapsed": true
   },
   "outputs": [],
   "source": []
  }
 ],
 "metadata": {
  "kernelspec": {
   "display_name": "R",
   "language": "R",
   "name": "ir"
  },
  "language_info": {
   "codemirror_mode": "r",
   "file_extension": ".r",
   "mimetype": "text/x-r-source",
   "name": "R",
   "pygments_lexer": "r",
   "version": "3.3.2"
  }
 },
 "nbformat": 4,
 "nbformat_minor": 2
}
